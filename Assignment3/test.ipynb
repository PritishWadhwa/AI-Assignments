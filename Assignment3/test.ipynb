{
 "cells": [
  {
   "cell_type": "code",
   "execution_count": 3,
   "metadata": {},
   "outputs": [],
   "source": [
    "from durable.lang import *"
   ]
  },
  {
   "cell_type": "code",
   "execution_count": 2,
   "metadata": {},
   "outputs": [
    {
     "name": "stdout",
     "output_type": "stream",
     "text": [
      "Defaulting to user installation because normal site-packages is not writeable\n",
      "Collecting durable_rules\n",
      "  Using cached durable_rules-2.0.28.tar.gz (57 kB)\n",
      "Building wheels for collected packages: durable-rules\n",
      "  Building wheel for durable-rules (setup.py) ... \u001b[?25ldone\n",
      "\u001b[?25h  Created wheel for durable-rules: filename=durable_rules-2.0.28-cp39-cp39-macosx_10_9_universal2.whl size=114243 sha256=eca95180e4ce9666cb4036927f77ef86936ecdaa1e8b77412582c2f1b9e3eb9b\n",
      "  Stored in directory: /Users/lalitwadhwa/Library/Caches/pip/wheels/1d/1b/a0/d71690e6081651215bc87359ad03f8127d70a314516560e0e3\n",
      "Successfully built durable-rules\n",
      "Installing collected packages: durable-rules\n",
      "Successfully installed durable-rules-2.0.28\n",
      "\u001b[33mWARNING: You are using pip version 21.2.4; however, version 22.3.1 is available.\n",
      "You should consider upgrading via the '/Library/Developer/CommandLineTools/usr/bin/python3 -m pip install --upgrade pip' command.\u001b[0m\n"
     ]
    }
   ],
   "source": [
    "!pip3 install durable_rules"
   ]
  },
  {
   "cell_type": "code",
   "execution_count": 15,
   "metadata": {},
   "outputs": [
    {
     "name": "stdout",
     "output_type": "stream",
     "text": [
      "Found existing installation: durable-rules 2.0.28\n",
      "Uninstalling durable-rules-2.0.28:\n",
      "  Would remove:\n",
      "    /usr/local/lib/python3.9/site-packages/durable/*\n",
      "    /usr/local/lib/python3.9/site-packages/durable_rules-2.0.28.dist-info/*\n",
      "    /usr/local/lib/python3.9/site-packages/durable_rules_engine.cpython-39-darwin.so\n",
      "Proceed (Y/n)? ^C\n",
      "\u001b[31mERROR: Operation cancelled by user\u001b[0m\u001b[31m\n",
      "\u001b[0m"
     ]
    }
   ],
   "source": [
    "!pip uninstall durable_rules"
   ]
  },
  {
   "cell_type": "code",
   "execution_count": null,
   "metadata": {},
   "outputs": [],
   "source": []
  }
 ],
 "metadata": {
  "kernelspec": {
   "display_name": "Python 3.9.6 64-bit",
   "language": "python",
   "name": "python3"
  },
  "language_info": {
   "codemirror_mode": {
    "name": "ipython",
    "version": 3
   },
   "file_extension": ".py",
   "mimetype": "text/x-python",
   "name": "python",
   "nbconvert_exporter": "python",
   "pygments_lexer": "ipython3",
   "version": "3.9.6"
  },
  "orig_nbformat": 4,
  "vscode": {
   "interpreter": {
    "hash": "31f2aee4e71d21fbe5cf8b01ff0e069b9275f58929596ceb00d14d90e3e16cd6"
   }
  }
 },
 "nbformat": 4,
 "nbformat_minor": 2
}
