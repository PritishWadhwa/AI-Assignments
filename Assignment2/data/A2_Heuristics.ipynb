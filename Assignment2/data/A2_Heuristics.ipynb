{
  "nbformat": 4,
  "nbformat_minor": 0,
  "metadata": {
    "colab": {
      "provenance": []
    },
    "kernelspec": {
      "name": "python3",
      "display_name": "Python 3"
    },
    "language_info": {
      "name": "python"
    }
  },
  "cells": [
    {
      "cell_type": "code",
      "execution_count": 141,
      "metadata": {
        "id": "2Y-1_tD0g_ye"
      },
      "outputs": [],
      "source": [
        "import geopy.distance\n",
        "import json"
      ]
    },
    {
      "cell_type": "code",
      "source": [
        "import geocoder"
      ],
      "metadata": {
        "id": "xAwv-kXCmAba"
      },
      "execution_count": 8,
      "outputs": []
    },
    {
      "cell_type": "code",
      "source": [
        "import pandas as pd"
      ],
      "metadata": {
        "id": "QPMp0NkOnEXm"
      },
      "execution_count": 121,
      "outputs": []
    },
    {
      "cell_type": "code",
      "source": [
        "data = pd.read_csv('dist1.csv', header=None)"
      ],
      "metadata": {
        "id": "_3c10rornU-E"
      },
      "execution_count": 122,
      "outputs": []
    },
    {
      "cell_type": "code",
      "source": [
        "data.head()"
      ],
      "metadata": {
        "colab": {
          "base_uri": "https://localhost:8080/",
          "height": 352
        },
        "id": "K79ve3BrpWVH",
        "outputId": "b7264b00-b58c-4ee8-d83b-88240e81f589"
      },
      "execution_count": 123,
      "outputs": [
        {
          "output_type": "execute_result",
          "data": {
            "text/plain": [
              "                                0          1          2             3   \\\n",
              "0  Road Distance of  Major  Cities        NaN        NaN           NaN   \n",
              "1           Distance in Kilometres  Ahmedabad  Bangalore  Bhubaneshwar   \n",
              "2                         Agartala       3305       3824          2286   \n",
              "3                             Agra        878       1848          1578   \n",
              "4                        Ahmedabad          -       1490          1697   \n",
              "\n",
              "       4         5           6       7      8          9   ...      11  \\\n",
              "0     NaN       NaN         NaN     NaN    NaN        NaN  ...     NaN   \n",
              "1  Bombay  Calcutta  Chandigarh  Cochin  Delhi  Hyderabad  ...  Jaipur   \n",
              "2    3593      1863        2998    4304   2708       3330  ...    2801   \n",
              "3    1202      1300         448    2278    200       1246  ...     230   \n",
              "4     552      2068        1157    1845    911       1436  ...     648   \n",
              "\n",
              "       12       13      14      15     16      17     18           19    20  \n",
              "0     NaN      NaN     NaN     NaN    NaN     NaN    NaN          NaN   NaN  \n",
              "1  Kanpur  Lucknow  Madras  Nagpur  Nasik  Panjim  Patna  Pondicherry  Pune  \n",
              "2    2281     2252    3493    2696   3365    3507   1681         3661  3442  \n",
              "3     290      369    2048     770   1005    1715    885         2210  1214  \n",
              "4    1168     1247    1821     965    504    1165   1656         1818   664  \n",
              "\n",
              "[5 rows x 21 columns]"
            ],
            "text/html": [
              "\n",
              "  <div id=\"df-eb4b945f-f91d-48ab-81a9-b0a606fb27d6\">\n",
              "    <div class=\"colab-df-container\">\n",
              "      <div>\n",
              "<style scoped>\n",
              "    .dataframe tbody tr th:only-of-type {\n",
              "        vertical-align: middle;\n",
              "    }\n",
              "\n",
              "    .dataframe tbody tr th {\n",
              "        vertical-align: top;\n",
              "    }\n",
              "\n",
              "    .dataframe thead th {\n",
              "        text-align: right;\n",
              "    }\n",
              "</style>\n",
              "<table border=\"1\" class=\"dataframe\">\n",
              "  <thead>\n",
              "    <tr style=\"text-align: right;\">\n",
              "      <th></th>\n",
              "      <th>0</th>\n",
              "      <th>1</th>\n",
              "      <th>2</th>\n",
              "      <th>3</th>\n",
              "      <th>4</th>\n",
              "      <th>5</th>\n",
              "      <th>6</th>\n",
              "      <th>7</th>\n",
              "      <th>8</th>\n",
              "      <th>9</th>\n",
              "      <th>...</th>\n",
              "      <th>11</th>\n",
              "      <th>12</th>\n",
              "      <th>13</th>\n",
              "      <th>14</th>\n",
              "      <th>15</th>\n",
              "      <th>16</th>\n",
              "      <th>17</th>\n",
              "      <th>18</th>\n",
              "      <th>19</th>\n",
              "      <th>20</th>\n",
              "    </tr>\n",
              "  </thead>\n",
              "  <tbody>\n",
              "    <tr>\n",
              "      <th>0</th>\n",
              "      <td>Road Distance of  Major  Cities</td>\n",
              "      <td>NaN</td>\n",
              "      <td>NaN</td>\n",
              "      <td>NaN</td>\n",
              "      <td>NaN</td>\n",
              "      <td>NaN</td>\n",
              "      <td>NaN</td>\n",
              "      <td>NaN</td>\n",
              "      <td>NaN</td>\n",
              "      <td>NaN</td>\n",
              "      <td>...</td>\n",
              "      <td>NaN</td>\n",
              "      <td>NaN</td>\n",
              "      <td>NaN</td>\n",
              "      <td>NaN</td>\n",
              "      <td>NaN</td>\n",
              "      <td>NaN</td>\n",
              "      <td>NaN</td>\n",
              "      <td>NaN</td>\n",
              "      <td>NaN</td>\n",
              "      <td>NaN</td>\n",
              "    </tr>\n",
              "    <tr>\n",
              "      <th>1</th>\n",
              "      <td>Distance in Kilometres</td>\n",
              "      <td>Ahmedabad</td>\n",
              "      <td>Bangalore</td>\n",
              "      <td>Bhubaneshwar</td>\n",
              "      <td>Bombay</td>\n",
              "      <td>Calcutta</td>\n",
              "      <td>Chandigarh</td>\n",
              "      <td>Cochin</td>\n",
              "      <td>Delhi</td>\n",
              "      <td>Hyderabad</td>\n",
              "      <td>...</td>\n",
              "      <td>Jaipur</td>\n",
              "      <td>Kanpur</td>\n",
              "      <td>Lucknow</td>\n",
              "      <td>Madras</td>\n",
              "      <td>Nagpur</td>\n",
              "      <td>Nasik</td>\n",
              "      <td>Panjim</td>\n",
              "      <td>Patna</td>\n",
              "      <td>Pondicherry</td>\n",
              "      <td>Pune</td>\n",
              "    </tr>\n",
              "    <tr>\n",
              "      <th>2</th>\n",
              "      <td>Agartala</td>\n",
              "      <td>3305</td>\n",
              "      <td>3824</td>\n",
              "      <td>2286</td>\n",
              "      <td>3593</td>\n",
              "      <td>1863</td>\n",
              "      <td>2998</td>\n",
              "      <td>4304</td>\n",
              "      <td>2708</td>\n",
              "      <td>3330</td>\n",
              "      <td>...</td>\n",
              "      <td>2801</td>\n",
              "      <td>2281</td>\n",
              "      <td>2252</td>\n",
              "      <td>3493</td>\n",
              "      <td>2696</td>\n",
              "      <td>3365</td>\n",
              "      <td>3507</td>\n",
              "      <td>1681</td>\n",
              "      <td>3661</td>\n",
              "      <td>3442</td>\n",
              "    </tr>\n",
              "    <tr>\n",
              "      <th>3</th>\n",
              "      <td>Agra</td>\n",
              "      <td>878</td>\n",
              "      <td>1848</td>\n",
              "      <td>1578</td>\n",
              "      <td>1202</td>\n",
              "      <td>1300</td>\n",
              "      <td>448</td>\n",
              "      <td>2278</td>\n",
              "      <td>200</td>\n",
              "      <td>1246</td>\n",
              "      <td>...</td>\n",
              "      <td>230</td>\n",
              "      <td>290</td>\n",
              "      <td>369</td>\n",
              "      <td>2048</td>\n",
              "      <td>770</td>\n",
              "      <td>1005</td>\n",
              "      <td>1715</td>\n",
              "      <td>885</td>\n",
              "      <td>2210</td>\n",
              "      <td>1214</td>\n",
              "    </tr>\n",
              "    <tr>\n",
              "      <th>4</th>\n",
              "      <td>Ahmedabad</td>\n",
              "      <td>-</td>\n",
              "      <td>1490</td>\n",
              "      <td>1697</td>\n",
              "      <td>552</td>\n",
              "      <td>2068</td>\n",
              "      <td>1157</td>\n",
              "      <td>1845</td>\n",
              "      <td>911</td>\n",
              "      <td>1436</td>\n",
              "      <td>...</td>\n",
              "      <td>648</td>\n",
              "      <td>1168</td>\n",
              "      <td>1247</td>\n",
              "      <td>1821</td>\n",
              "      <td>965</td>\n",
              "      <td>504</td>\n",
              "      <td>1165</td>\n",
              "      <td>1656</td>\n",
              "      <td>1818</td>\n",
              "      <td>664</td>\n",
              "    </tr>\n",
              "  </tbody>\n",
              "</table>\n",
              "<p>5 rows × 21 columns</p>\n",
              "</div>\n",
              "      <button class=\"colab-df-convert\" onclick=\"convertToInteractive('df-eb4b945f-f91d-48ab-81a9-b0a606fb27d6')\"\n",
              "              title=\"Convert this dataframe to an interactive table.\"\n",
              "              style=\"display:none;\">\n",
              "        \n",
              "  <svg xmlns=\"http://www.w3.org/2000/svg\" height=\"24px\"viewBox=\"0 0 24 24\"\n",
              "       width=\"24px\">\n",
              "    <path d=\"M0 0h24v24H0V0z\" fill=\"none\"/>\n",
              "    <path d=\"M18.56 5.44l.94 2.06.94-2.06 2.06-.94-2.06-.94-.94-2.06-.94 2.06-2.06.94zm-11 1L8.5 8.5l.94-2.06 2.06-.94-2.06-.94L8.5 2.5l-.94 2.06-2.06.94zm10 10l.94 2.06.94-2.06 2.06-.94-2.06-.94-.94-2.06-.94 2.06-2.06.94z\"/><path d=\"M17.41 7.96l-1.37-1.37c-.4-.4-.92-.59-1.43-.59-.52 0-1.04.2-1.43.59L10.3 9.45l-7.72 7.72c-.78.78-.78 2.05 0 2.83L4 21.41c.39.39.9.59 1.41.59.51 0 1.02-.2 1.41-.59l7.78-7.78 2.81-2.81c.8-.78.8-2.07 0-2.86zM5.41 20L4 18.59l7.72-7.72 1.47 1.35L5.41 20z\"/>\n",
              "  </svg>\n",
              "      </button>\n",
              "      \n",
              "  <style>\n",
              "    .colab-df-container {\n",
              "      display:flex;\n",
              "      flex-wrap:wrap;\n",
              "      gap: 12px;\n",
              "    }\n",
              "\n",
              "    .colab-df-convert {\n",
              "      background-color: #E8F0FE;\n",
              "      border: none;\n",
              "      border-radius: 50%;\n",
              "      cursor: pointer;\n",
              "      display: none;\n",
              "      fill: #1967D2;\n",
              "      height: 32px;\n",
              "      padding: 0 0 0 0;\n",
              "      width: 32px;\n",
              "    }\n",
              "\n",
              "    .colab-df-convert:hover {\n",
              "      background-color: #E2EBFA;\n",
              "      box-shadow: 0px 1px 2px rgba(60, 64, 67, 0.3), 0px 1px 3px 1px rgba(60, 64, 67, 0.15);\n",
              "      fill: #174EA6;\n",
              "    }\n",
              "\n",
              "    [theme=dark] .colab-df-convert {\n",
              "      background-color: #3B4455;\n",
              "      fill: #D2E3FC;\n",
              "    }\n",
              "\n",
              "    [theme=dark] .colab-df-convert:hover {\n",
              "      background-color: #434B5C;\n",
              "      box-shadow: 0px 1px 3px 1px rgba(0, 0, 0, 0.15);\n",
              "      filter: drop-shadow(0px 1px 2px rgba(0, 0, 0, 0.3));\n",
              "      fill: #FFFFFF;\n",
              "    }\n",
              "  </style>\n",
              "\n",
              "      <script>\n",
              "        const buttonEl =\n",
              "          document.querySelector('#df-eb4b945f-f91d-48ab-81a9-b0a606fb27d6 button.colab-df-convert');\n",
              "        buttonEl.style.display =\n",
              "          google.colab.kernel.accessAllowed ? 'block' : 'none';\n",
              "\n",
              "        async function convertToInteractive(key) {\n",
              "          const element = document.querySelector('#df-eb4b945f-f91d-48ab-81a9-b0a606fb27d6');\n",
              "          const dataTable =\n",
              "            await google.colab.kernel.invokeFunction('convertToInteractive',\n",
              "                                                     [key], {});\n",
              "          if (!dataTable) return;\n",
              "\n",
              "          const docLinkHtml = 'Like what you see? Visit the ' +\n",
              "            '<a target=\"_blank\" href=https://colab.research.google.com/notebooks/data_table.ipynb>data table notebook</a>'\n",
              "            + ' to learn more about interactive tables.';\n",
              "          element.innerHTML = '';\n",
              "          dataTable['output_type'] = 'display_data';\n",
              "          await google.colab.output.renderOutput(dataTable, element);\n",
              "          const docLink = document.createElement('div');\n",
              "          docLink.innerHTML = docLinkHtml;\n",
              "          element.appendChild(docLink);\n",
              "        }\n",
              "      </script>\n",
              "    </div>\n",
              "  </div>\n",
              "  "
            ]
          },
          "metadata": {},
          "execution_count": 123
        }
      ]
    },
    {
      "cell_type": "code",
      "source": [
        "data = data.drop(labels=0, axis=0)"
      ],
      "metadata": {
        "id": "ySV-0rTWpXfG"
      },
      "execution_count": 124,
      "outputs": []
    },
    {
      "cell_type": "code",
      "source": [
        "data.head()"
      ],
      "metadata": {
        "colab": {
          "base_uri": "https://localhost:8080/",
          "height": 317
        },
        "id": "e1FIxPB0plbw",
        "outputId": "0ea2970e-1c3b-45b6-f472-84d3c3508945"
      },
      "execution_count": 125,
      "outputs": [
        {
          "output_type": "execute_result",
          "data": {
            "text/plain": [
              "                       0          1          2             3       4   \\\n",
              "1  Distance in Kilometres  Ahmedabad  Bangalore  Bhubaneshwar  Bombay   \n",
              "2                Agartala       3305       3824          2286    3593   \n",
              "3                    Agra        878       1848          1578    1202   \n",
              "4               Ahmedabad          -       1490          1697     552   \n",
              "5               Allahabad       1251       1686          1090    1457   \n",
              "\n",
              "         5           6       7      8          9   ...      11      12  \\\n",
              "1  Calcutta  Chandigarh  Cochin  Delhi  Hyderabad  ...  Jaipur  Kanpur   \n",
              "2      1863        2998    4304   2708       3330  ...    2801    2281   \n",
              "3      1300         448    2278    200       1246  ...     230     290   \n",
              "4      2068        1157    1845    911       1436  ...     648    1168   \n",
              "5       817         912    2216    650       1084  ...     713     193   \n",
              "\n",
              "        13      14      15     16      17     18           19    20  \n",
              "1  Lucknow  Madras  Nagpur  Nasik  Panjim  Patna  Pondicherry  Pune  \n",
              "2     2252    3493    2696   3365    3507   1681         3661  3442  \n",
              "3      369    2048     770   1005    1715    885         2210  1214  \n",
              "4     1247    1821     965    504    1165   1656         1818   664  \n",
              "5      234    2011     608   1155    1419    402         1077  1364  \n",
              "\n",
              "[5 rows x 21 columns]"
            ],
            "text/html": [
              "\n",
              "  <div id=\"df-d67d1ae5-02c2-4a20-9f67-c75b38e6d6f9\">\n",
              "    <div class=\"colab-df-container\">\n",
              "      <div>\n",
              "<style scoped>\n",
              "    .dataframe tbody tr th:only-of-type {\n",
              "        vertical-align: middle;\n",
              "    }\n",
              "\n",
              "    .dataframe tbody tr th {\n",
              "        vertical-align: top;\n",
              "    }\n",
              "\n",
              "    .dataframe thead th {\n",
              "        text-align: right;\n",
              "    }\n",
              "</style>\n",
              "<table border=\"1\" class=\"dataframe\">\n",
              "  <thead>\n",
              "    <tr style=\"text-align: right;\">\n",
              "      <th></th>\n",
              "      <th>0</th>\n",
              "      <th>1</th>\n",
              "      <th>2</th>\n",
              "      <th>3</th>\n",
              "      <th>4</th>\n",
              "      <th>5</th>\n",
              "      <th>6</th>\n",
              "      <th>7</th>\n",
              "      <th>8</th>\n",
              "      <th>9</th>\n",
              "      <th>...</th>\n",
              "      <th>11</th>\n",
              "      <th>12</th>\n",
              "      <th>13</th>\n",
              "      <th>14</th>\n",
              "      <th>15</th>\n",
              "      <th>16</th>\n",
              "      <th>17</th>\n",
              "      <th>18</th>\n",
              "      <th>19</th>\n",
              "      <th>20</th>\n",
              "    </tr>\n",
              "  </thead>\n",
              "  <tbody>\n",
              "    <tr>\n",
              "      <th>1</th>\n",
              "      <td>Distance in Kilometres</td>\n",
              "      <td>Ahmedabad</td>\n",
              "      <td>Bangalore</td>\n",
              "      <td>Bhubaneshwar</td>\n",
              "      <td>Bombay</td>\n",
              "      <td>Calcutta</td>\n",
              "      <td>Chandigarh</td>\n",
              "      <td>Cochin</td>\n",
              "      <td>Delhi</td>\n",
              "      <td>Hyderabad</td>\n",
              "      <td>...</td>\n",
              "      <td>Jaipur</td>\n",
              "      <td>Kanpur</td>\n",
              "      <td>Lucknow</td>\n",
              "      <td>Madras</td>\n",
              "      <td>Nagpur</td>\n",
              "      <td>Nasik</td>\n",
              "      <td>Panjim</td>\n",
              "      <td>Patna</td>\n",
              "      <td>Pondicherry</td>\n",
              "      <td>Pune</td>\n",
              "    </tr>\n",
              "    <tr>\n",
              "      <th>2</th>\n",
              "      <td>Agartala</td>\n",
              "      <td>3305</td>\n",
              "      <td>3824</td>\n",
              "      <td>2286</td>\n",
              "      <td>3593</td>\n",
              "      <td>1863</td>\n",
              "      <td>2998</td>\n",
              "      <td>4304</td>\n",
              "      <td>2708</td>\n",
              "      <td>3330</td>\n",
              "      <td>...</td>\n",
              "      <td>2801</td>\n",
              "      <td>2281</td>\n",
              "      <td>2252</td>\n",
              "      <td>3493</td>\n",
              "      <td>2696</td>\n",
              "      <td>3365</td>\n",
              "      <td>3507</td>\n",
              "      <td>1681</td>\n",
              "      <td>3661</td>\n",
              "      <td>3442</td>\n",
              "    </tr>\n",
              "    <tr>\n",
              "      <th>3</th>\n",
              "      <td>Agra</td>\n",
              "      <td>878</td>\n",
              "      <td>1848</td>\n",
              "      <td>1578</td>\n",
              "      <td>1202</td>\n",
              "      <td>1300</td>\n",
              "      <td>448</td>\n",
              "      <td>2278</td>\n",
              "      <td>200</td>\n",
              "      <td>1246</td>\n",
              "      <td>...</td>\n",
              "      <td>230</td>\n",
              "      <td>290</td>\n",
              "      <td>369</td>\n",
              "      <td>2048</td>\n",
              "      <td>770</td>\n",
              "      <td>1005</td>\n",
              "      <td>1715</td>\n",
              "      <td>885</td>\n",
              "      <td>2210</td>\n",
              "      <td>1214</td>\n",
              "    </tr>\n",
              "    <tr>\n",
              "      <th>4</th>\n",
              "      <td>Ahmedabad</td>\n",
              "      <td>-</td>\n",
              "      <td>1490</td>\n",
              "      <td>1697</td>\n",
              "      <td>552</td>\n",
              "      <td>2068</td>\n",
              "      <td>1157</td>\n",
              "      <td>1845</td>\n",
              "      <td>911</td>\n",
              "      <td>1436</td>\n",
              "      <td>...</td>\n",
              "      <td>648</td>\n",
              "      <td>1168</td>\n",
              "      <td>1247</td>\n",
              "      <td>1821</td>\n",
              "      <td>965</td>\n",
              "      <td>504</td>\n",
              "      <td>1165</td>\n",
              "      <td>1656</td>\n",
              "      <td>1818</td>\n",
              "      <td>664</td>\n",
              "    </tr>\n",
              "    <tr>\n",
              "      <th>5</th>\n",
              "      <td>Allahabad</td>\n",
              "      <td>1251</td>\n",
              "      <td>1686</td>\n",
              "      <td>1090</td>\n",
              "      <td>1457</td>\n",
              "      <td>817</td>\n",
              "      <td>912</td>\n",
              "      <td>2216</td>\n",
              "      <td>650</td>\n",
              "      <td>1084</td>\n",
              "      <td>...</td>\n",
              "      <td>713</td>\n",
              "      <td>193</td>\n",
              "      <td>234</td>\n",
              "      <td>2011</td>\n",
              "      <td>608</td>\n",
              "      <td>1155</td>\n",
              "      <td>1419</td>\n",
              "      <td>402</td>\n",
              "      <td>1077</td>\n",
              "      <td>1364</td>\n",
              "    </tr>\n",
              "  </tbody>\n",
              "</table>\n",
              "<p>5 rows × 21 columns</p>\n",
              "</div>\n",
              "      <button class=\"colab-df-convert\" onclick=\"convertToInteractive('df-d67d1ae5-02c2-4a20-9f67-c75b38e6d6f9')\"\n",
              "              title=\"Convert this dataframe to an interactive table.\"\n",
              "              style=\"display:none;\">\n",
              "        \n",
              "  <svg xmlns=\"http://www.w3.org/2000/svg\" height=\"24px\"viewBox=\"0 0 24 24\"\n",
              "       width=\"24px\">\n",
              "    <path d=\"M0 0h24v24H0V0z\" fill=\"none\"/>\n",
              "    <path d=\"M18.56 5.44l.94 2.06.94-2.06 2.06-.94-2.06-.94-.94-2.06-.94 2.06-2.06.94zm-11 1L8.5 8.5l.94-2.06 2.06-.94-2.06-.94L8.5 2.5l-.94 2.06-2.06.94zm10 10l.94 2.06.94-2.06 2.06-.94-2.06-.94-.94-2.06-.94 2.06-2.06.94z\"/><path d=\"M17.41 7.96l-1.37-1.37c-.4-.4-.92-.59-1.43-.59-.52 0-1.04.2-1.43.59L10.3 9.45l-7.72 7.72c-.78.78-.78 2.05 0 2.83L4 21.41c.39.39.9.59 1.41.59.51 0 1.02-.2 1.41-.59l7.78-7.78 2.81-2.81c.8-.78.8-2.07 0-2.86zM5.41 20L4 18.59l7.72-7.72 1.47 1.35L5.41 20z\"/>\n",
              "  </svg>\n",
              "      </button>\n",
              "      \n",
              "  <style>\n",
              "    .colab-df-container {\n",
              "      display:flex;\n",
              "      flex-wrap:wrap;\n",
              "      gap: 12px;\n",
              "    }\n",
              "\n",
              "    .colab-df-convert {\n",
              "      background-color: #E8F0FE;\n",
              "      border: none;\n",
              "      border-radius: 50%;\n",
              "      cursor: pointer;\n",
              "      display: none;\n",
              "      fill: #1967D2;\n",
              "      height: 32px;\n",
              "      padding: 0 0 0 0;\n",
              "      width: 32px;\n",
              "    }\n",
              "\n",
              "    .colab-df-convert:hover {\n",
              "      background-color: #E2EBFA;\n",
              "      box-shadow: 0px 1px 2px rgba(60, 64, 67, 0.3), 0px 1px 3px 1px rgba(60, 64, 67, 0.15);\n",
              "      fill: #174EA6;\n",
              "    }\n",
              "\n",
              "    [theme=dark] .colab-df-convert {\n",
              "      background-color: #3B4455;\n",
              "      fill: #D2E3FC;\n",
              "    }\n",
              "\n",
              "    [theme=dark] .colab-df-convert:hover {\n",
              "      background-color: #434B5C;\n",
              "      box-shadow: 0px 1px 3px 1px rgba(0, 0, 0, 0.15);\n",
              "      filter: drop-shadow(0px 1px 2px rgba(0, 0, 0, 0.3));\n",
              "      fill: #FFFFFF;\n",
              "    }\n",
              "  </style>\n",
              "\n",
              "      <script>\n",
              "        const buttonEl =\n",
              "          document.querySelector('#df-d67d1ae5-02c2-4a20-9f67-c75b38e6d6f9 button.colab-df-convert');\n",
              "        buttonEl.style.display =\n",
              "          google.colab.kernel.accessAllowed ? 'block' : 'none';\n",
              "\n",
              "        async function convertToInteractive(key) {\n",
              "          const element = document.querySelector('#df-d67d1ae5-02c2-4a20-9f67-c75b38e6d6f9');\n",
              "          const dataTable =\n",
              "            await google.colab.kernel.invokeFunction('convertToInteractive',\n",
              "                                                     [key], {});\n",
              "          if (!dataTable) return;\n",
              "\n",
              "          const docLinkHtml = 'Like what you see? Visit the ' +\n",
              "            '<a target=\"_blank\" href=https://colab.research.google.com/notebooks/data_table.ipynb>data table notebook</a>'\n",
              "            + ' to learn more about interactive tables.';\n",
              "          element.innerHTML = '';\n",
              "          dataTable['output_type'] = 'display_data';\n",
              "          await google.colab.output.renderOutput(dataTable, element);\n",
              "          const docLink = document.createElement('div');\n",
              "          docLink.innerHTML = docLinkHtml;\n",
              "          element.appendChild(docLink);\n",
              "        }\n",
              "      </script>\n",
              "    </div>\n",
              "  </div>\n",
              "  "
            ]
          },
          "metadata": {},
          "execution_count": 125
        }
      ]
    },
    {
      "cell_type": "code",
      "source": [
        "row0 = data.iloc[0, :]"
      ],
      "metadata": {
        "id": "coczxbiApyF4"
      },
      "execution_count": 126,
      "outputs": []
    },
    {
      "cell_type": "code",
      "source": [
        "col0 = data.iloc[:, 0]"
      ],
      "metadata": {
        "id": "v4Hc_iUDtAL8"
      },
      "execution_count": 127,
      "outputs": []
    },
    {
      "cell_type": "code",
      "source": [
        "places = set()"
      ],
      "metadata": {
        "id": "v1qN6dSptBRm"
      },
      "execution_count": 129,
      "outputs": []
    },
    {
      "cell_type": "code",
      "source": [
        "for i in row0:\n",
        "    if i != 'Distance in Kilometres':\n",
        "        places.add(i)\n",
        "for i in col0:\n",
        "    if i != 'Distance in Kilometres':\n",
        "        places.add(i)"
      ],
      "metadata": {
        "id": "Pcs0ao1steU1"
      },
      "execution_count": 130,
      "outputs": []
    },
    {
      "cell_type": "code",
      "source": [
        "len(places)"
      ],
      "metadata": {
        "colab": {
          "base_uri": "https://localhost:8080/"
        },
        "id": "ptxZ4Bq7tyOZ",
        "outputId": "d77f356c-434e-45fb-fc62-e468f446fbe7"
      },
      "execution_count": 131,
      "outputs": [
        {
          "output_type": "execute_result",
          "data": {
            "text/plain": [
              "(47, 0)"
            ]
          },
          "metadata": {},
          "execution_count": 131
        }
      ]
    },
    {
      "cell_type": "code",
      "source": [
        "places = list(places)"
      ],
      "metadata": {
        "id": "hL-fm8Adu9Z0"
      },
      "execution_count": 133,
      "outputs": []
    },
    {
      "cell_type": "code",
      "source": [
        "placeDetails = dict()"
      ],
      "metadata": {
        "id": "Qmch6hnLvXCz"
      },
      "execution_count": 134,
      "outputs": []
    },
    {
      "cell_type": "code",
      "source": [
        "for i in places:\n",
        "    placeDetails[str(i)] = {}\n",
        "    g = geocoder.bing(str(i), key='XXXX')\n",
        "    res = g.json\n",
        "    placeDetails[str(i)]['lat'] = res['lat']\n",
        "    placeDetails[str(i)]['lng'] = res['lng']"
      ],
      "metadata": {
        "id": "XJy2DSLswdB0"
      },
      "execution_count": 135,
      "outputs": []
    },
    {
      "cell_type": "code",
      "source": [
        "placeDetails"
      ],
      "metadata": {
        "colab": {
          "base_uri": "https://localhost:8080/"
        },
        "id": "ykyDzimxwtd-",
        "outputId": "8ce3c3d7-a1d1-47cd-cc4e-b27bdf93910b"
      },
      "execution_count": 136,
      "outputs": [
        {
          "output_type": "execute_result",
          "data": {
            "text/plain": [
              "{'Baroda': {'lat': 22.31119537, 'lng': 73.18198395},\n",
              " 'Calcutta': {'lat': 22.56557274, 'lng': 88.37021637},\n",
              " 'Bombay': {'lat': 18.96904755, 'lng': 72.82118225},\n",
              " 'Vishakapatnam': {'lat': 17.73463249, 'lng': 83.2729187},\n",
              " 'Bangalore': {'lat': 12.97674656, 'lng': 77.57527924},\n",
              " 'Cochin': {'lat': 9.95761681, 'lng': 76.25115204},\n",
              " 'Ludhiana': {'lat': 30.90077972, 'lng': 75.77213287},\n",
              " 'Shimla': {'lat': 31.09685707, 'lng': 77.13426208},\n",
              " 'Patna': {'lat': 25.54798698, 'lng': 85.07231903},\n",
              " 'Meerut': {'lat': 28.97919083, 'lng': 77.69818878},\n",
              " 'Pondicherry': {'lat': 11.93410683, 'lng': 79.8080368},\n",
              " 'Ahmedabad': {'lat': 23.0145092, 'lng': 72.59175873},\n",
              " 'Ranchi': {'lat': 23.36990356, 'lng': 85.32527924},\n",
              " 'Hubli': {'lat': 15.35140038, 'lng': 75.14759827},\n",
              " 'Shillong': {'lat': 25.58547783, 'lng': 91.89604187},\n",
              " 'Delhi': {'lat': 28.64339066, 'lng': 77.11547852},\n",
              " 'Chandigarh': {'lat': 30.73335075, 'lng': 76.77903748},\n",
              " 'Agra': {'lat': 27.16772461, 'lng': 78.03588867},\n",
              " 'Agartala': {'lat': 23.83382034, 'lng': 91.28242493},\n",
              " 'Coimbatore': {'lat': 11.01600933, 'lng': 76.9703064},\n",
              " 'Panjim': {'lat': 15.48334026, 'lng': 73.82233429},\n",
              " 'Vijayawada': {'lat': 16.50940323, 'lng': 80.62503815},\n",
              " 'Allahabad': {'lat': 25.42911911, 'lng': 81.85462952},\n",
              " 'Madras': {'lat': 13.06695557, 'lng': 80.16930389},\n",
              " 'Lucknow': {'lat': 26.85000038, 'lng': 80.94999695},\n",
              " 'Imphal': {'lat': 24.80215263, 'lng': 93.93862152},\n",
              " 'Asansol': {'lat': 23.69303513, 'lng': 86.95310974},\n",
              " 'Madurai': {'lat': 9.92012882, 'lng': 78.11087799},\n",
              " 'Nagpur': {'lat': 21.15261841, 'lng': 79.0881958},\n",
              " 'Hyderabad': {'lat': 17.36599922, 'lng': 78.47599792},\n",
              " 'Pune': {'lat': 18.52890396, 'lng': 73.8743515},\n",
              " 'Bhubaneshwar': {'lat': 20.27000046, 'lng': 85.83999634},\n",
              " 'Trivandrum': {'lat': 8.53037357, 'lng': 76.9295578},\n",
              " 'Calicut': {'lat': 11.25879955, 'lng': 75.78074646},\n",
              " 'Jullundur': {'lat': 31.55549622, 'lng': 75.64493561},\n",
              " 'Varanasi': {'lat': 25.30969238, 'lng': 83.00567627},\n",
              " 'Surat': {'lat': 21.20350838, 'lng': 72.83922577},\n",
              " 'Kolhapur': {'lat': 16.69166946, 'lng': 74.23332977},\n",
              " 'Jamshedpur': {'lat': 22.76867485, 'lng': 86.19878387},\n",
              " 'Indore': {'lat': 22.71867371, 'lng': 75.85571289},\n",
              " 'Jabalpur': {'lat': 23.16571045, 'lng': 79.93235779},\n",
              " 'Amritsar': {'lat': 31.6378479, 'lng': 74.86791229},\n",
              " 'Jaipur': {'lat': 26.92103958, 'lng': 75.7943573},\n",
              " 'Bhopal': {'lat': 23.13952637, 'lng': 77.40857697},\n",
              " 'Gwalior': {'lat': 26.21999931, 'lng': 78.16999817},\n",
              " 'Nasik': {'lat': 20.05602264, 'lng': 73.64289093},\n",
              " 'Kanpur': {'lat': 26.33968735, 'lng': 80.29293823}}"
            ]
          },
          "metadata": {},
          "execution_count": 136
        }
      ]
    },
    {
      "cell_type": "code",
      "source": [
        "with open(\"placeData.json\", 'w') as f:\n",
        "    json.dump(placeDetails, f)"
      ],
      "metadata": {
        "id": "PbAkU3e0ziFm"
      },
      "execution_count": 138,
      "outputs": []
    },
    {
      "cell_type": "code",
      "source": [
        "finalData = set()"
      ],
      "metadata": {
        "id": "36E_p5uK02j2"
      },
      "execution_count": 148,
      "outputs": []
    },
    {
      "cell_type": "code",
      "source": [
        "for i in placeDetails:\n",
        "    for j in placeDetails:\n",
        "        currData = (str(i), str(j), int(geopy.distance.geodesic((placeDetails[i]['lat'], placeDetails[i]['lng']), (placeDetails[j]['lat'], placeDetails[j]['lng'])).km))\n",
        "        finalData.add(currData)"
      ],
      "metadata": {
        "id": "wTbq51Yk3stN"
      },
      "execution_count": 149,
      "outputs": []
    },
    {
      "cell_type": "code",
      "source": [
        "finalData = list(finalData)"
      ],
      "metadata": {
        "id": "mydvWhgJ4yED"
      },
      "execution_count": 152,
      "outputs": []
    },
    {
      "cell_type": "code",
      "source": [
        "for i in range(len(finalData)):\n",
        "    finalData[i] = list(finalData[i])"
      ],
      "metadata": {
        "id": "ZBTTyVim5vvk"
      },
      "execution_count": 154,
      "outputs": []
    },
    {
      "cell_type": "code",
      "source": [
        "heuristics = pd.DataFrame(finalData, columns=['City1', 'City2', 'Distance'])"
      ],
      "metadata": {
        "id": "y8kl92ZB5_Xi"
      },
      "execution_count": 158,
      "outputs": []
    },
    {
      "cell_type": "code",
      "source": [
        "heuristics.to_csv('heuristics.csv', index=False)"
      ],
      "metadata": {
        "id": "3YDWrnCp6OlC"
      },
      "execution_count": 161,
      "outputs": []
    }
  ]
}